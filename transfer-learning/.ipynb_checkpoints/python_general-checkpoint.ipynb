{
 "cells": [
  {
   "cell_type": "markdown",
   "metadata": {},
   "source": [
    "# string operations"
   ]
  },
  {
   "cell_type": "code",
   "execution_count": 11,
   "metadata": {},
   "outputs": [],
   "source": [
    "import nltk\n",
    "ps=nltk.stem.PorterStemmer()"
   ]
  },
  {
   "cell_type": "code",
   "execution_count": 2,
   "metadata": {},
   "outputs": [],
   "source": [
    "outside = ['chew drop', 'chew fiber', 'chew ifw', 'chew fiber hr', 'bsw cut', \\\n",
    "           'claim submit', 'claim file', 'broken ifw', 'fiber iw broken', 'swap fiber end', 'cx cancel service']"
   ]
  },
  {
   "cell_type": "code",
   "execution_count": 41,
   "metadata": {},
   "outputs": [],
   "source": [
    "install = ['ad two airti', 'relocate nid', 'move nid', 'request new sub', 'request new jack', \\\n",
    "           'move modem upstairs', 'move modem basement', 'move rg upstairs', 'move rg basement',\\\n",
    "           'move ont', 'move rg', 'relocate ont', 'require full install', 'require full reinstall',\\\n",
    "           'relocate modem upstairs', 'relocate modem basement', 'relocate rg upstairs', 'relocate rg basement', 'relocate rg']"
   ]
  },
  {
   "cell_type": "code",
   "execution_count": 45,
   "metadata": {},
   "outputs": [],
   "source": [
    "customer = ['ont unplug', 'plug wrong', 'rg unplug', 'move wap', 'power supply trip', 'phone off hook', \\\n",
    "            'unplug voip', 'plug wrong input', 'cut power cord', 'power cord cut', 'reconnect equipment improperly', \\\n",
    "            'correct cable', 'unplug bbu', 'video bridge unplug', 'unplug router', 'swap rg request', 'swap modem request', \\\n",
    "            'request rg swap', 'request cpe swap']"
   ]
  },
  {
   "cell_type": "code",
   "execution_count": 47,
   "metadata": {},
   "outputs": [],
   "source": [
    "iw = ['instal jack', 'replace coax', 'repair iw', 'move ont', 'move rg', 'relocate ont', \\\n",
    "      'new cat5 hr', 'ran new iw', 'replac coax', 'place new jack', 'replac jack', 'repair wiring']"
   ]
  },
  {
   "cell_type": "code",
   "execution_count": 4,
   "metadata": {},
   "outputs": [],
   "source": [
    "damage = ['rodent chew', 'iw cut', 'cut iw', 'animal chew iw', 'iw chew animal', 'dog chew hr', \\\n",
    "          'contractor cut', 'dog bite', 'chew hr nid', 'pet chew']"
   ]
  },
  {
   "cell_type": "code",
   "execution_count": 35,
   "metadata": {},
   "outputs": [],
   "source": [
    "# this is not correct, only stem the last word in each phrase.\n",
    "def pstem(inputs):\n",
    "    output_stem = []\n",
    "    for i in range(len(inputs)):\n",
    "        output_stem.append(ps.stem(inputs[i]))\n",
    "    return output_stem"
   ]
  },
  {
   "cell_type": "code",
   "execution_count": 58,
   "metadata": {},
   "outputs": [
    {
     "data": {
      "text/plain": [
       "['rodent chew',\n",
       " 'iw cut',\n",
       " 'cut iw',\n",
       " 'animal chew iw',\n",
       " 'iw chew anim',\n",
       " 'dog chew hr',\n",
       " 'contractor cut',\n",
       " 'dog bit',\n",
       " 'chew hr nid',\n",
       " 'pet chew']"
      ]
     },
     "execution_count": 58,
     "metadata": {},
     "output_type": "execute_result"
    }
   ],
   "source": [
    "pstem(damage)"
   ]
  },
  {
   "cell_type": "code",
   "execution_count": 30,
   "metadata": {},
   "outputs": [
    {
     "data": {
      "text/plain": [
       "'iw chew anim'"
      ]
     },
     "execution_count": 30,
     "metadata": {},
     "output_type": "execute_result"
    }
   ],
   "source": [
    "ps.stem('iw chew animal')"
   ]
  },
  {
   "cell_type": "code",
   "execution_count": 37,
   "metadata": {},
   "outputs": [
    {
     "data": {
      "text/plain": [
       "'animal chew iw'"
      ]
     },
     "execution_count": 37,
     "metadata": {},
     "output_type": "execute_result"
    }
   ],
   "source": [
    "ps.stem('animal chew iw')   # only stem the last word of a string"
   ]
  },
  {
   "cell_type": "code",
   "execution_count": null,
   "metadata": {},
   "outputs": [],
   "source": []
  },
  {
   "cell_type": "code",
   "execution_count": 16,
   "metadata": {},
   "outputs": [],
   "source": [
    "documents = [\"Human machine interface for lab abc computer applications\",\n",
    "             \"A survey of user opinion of computer system response time\",\n",
    "             \"The EPS user interface management system\",\n",
    "             \"System and human system engineering testing of EPS\",\n",
    "             \"Relation of user perceived response time to error measurement\",\n",
    "             \"The generation of random binary unordered trees\",\n",
    "             \"The intersection graph of paths in trees\",\n",
    "             \"Graph minors IV Widths of trees and well quasi ordering\",\n",
    "             \"Graph minors A survey\"]"
   ]
  },
  {
   "cell_type": "code",
   "execution_count": null,
   "metadata": {},
   "outputs": [],
   "source": []
  },
  {
   "cell_type": "code",
   "execution_count": 26,
   "metadata": {},
   "outputs": [
    {
     "data": {
      "text/plain": [
       "['human machin interfac for lab abc comput applic',\n",
       " 'A survey of user opinion of comput system respons time',\n",
       " 'the ep user interfac manag system',\n",
       " 'system and human system engin test of ep',\n",
       " 'relat of user perceiv respons time to error measur',\n",
       " 'the gener of random binari unord tree',\n",
       " 'the intersect graph of path in tree',\n",
       " 'graph minor IV width of tree and well quasi order',\n",
       " 'graph minor A survey']"
      ]
     },
     "execution_count": 26,
     "metadata": {},
     "output_type": "execute_result"
    }
   ],
   "source": [
    "[\" \".join([ps.stem(word) for word in sentence.split(\" \")]) for sentence in documents]"
   ]
  },
  {
   "cell_type": "code",
   "execution_count": 49,
   "metadata": {},
   "outputs": [
    {
     "data": {
      "text/plain": [
       "['Human',\n",
       " 'machine',\n",
       " 'interface',\n",
       " 'for',\n",
       " 'lab',\n",
       " 'abc',\n",
       " 'computer',\n",
       " 'applications']"
      ]
     },
     "execution_count": 49,
     "metadata": {},
     "output_type": "execute_result"
    }
   ],
   "source": [
    "\"Human machine interface for lab abc computer applications\".split(\" \")"
   ]
  },
  {
   "cell_type": "code",
   "execution_count": 35,
   "metadata": {},
   "outputs": [
    {
     "data": {
      "text/plain": [
       "['human machin interfac for lab abc comput applic']"
      ]
     },
     "execution_count": 35,
     "metadata": {},
     "output_type": "execute_result"
    }
   ],
   "source": [
    "[\" \".join(['human', 'machin', 'interfac', 'for', 'lab', 'abc', 'comput', 'applic'])]"
   ]
  },
  {
   "cell_type": "code",
   "execution_count": 34,
   "metadata": {},
   "outputs": [
    {
     "data": {
      "text/plain": [
       "['human-machin-interfac-for-lab-abc-comput-applic']"
      ]
     },
     "execution_count": 34,
     "metadata": {},
     "output_type": "execute_result"
    }
   ],
   "source": [
    "[\"-\".join(['human', 'machin', 'interfac', 'for', 'lab', 'abc', 'comput', 'applic'])]"
   ]
  },
  {
   "cell_type": "code",
   "execution_count": 45,
   "metadata": {},
   "outputs": [
    {
     "data": {
      "text/plain": [
       "[['human', 'machin', 'interfac', 'for', 'lab', 'abc', 'comput', 'applic'],\n",
       " ['A',\n",
       "  'survey',\n",
       "  'of',\n",
       "  'user',\n",
       "  'opinion',\n",
       "  'of',\n",
       "  'comput',\n",
       "  'system',\n",
       "  'respons',\n",
       "  'time'],\n",
       " ['the', 'ep', 'user', 'interfac', 'manag', 'system']]"
      ]
     },
     "execution_count": 45,
     "metadata": {},
     "output_type": "execute_result"
    }
   ],
   "source": [
    "[[ps.stem(word) for word in sentence.split(\" \")] for sentence in documents[:3]] "
   ]
  },
  {
   "cell_type": "code",
   "execution_count": 40,
   "metadata": {},
   "outputs": [
    {
     "data": {
      "text/plain": [
       "['human',\n",
       " 'machin',\n",
       " 'interfac',\n",
       " 'for',\n",
       " 'lab',\n",
       " 'abc',\n",
       " 'comput',\n",
       " 'applic',\n",
       " 'A',\n",
       " 'survey',\n",
       " 'of',\n",
       " 'user',\n",
       " 'opinion',\n",
       " 'of',\n",
       " 'comput',\n",
       " 'system',\n",
       " 'respons',\n",
       " 'time']"
      ]
     },
     "execution_count": 40,
     "metadata": {},
     "output_type": "execute_result"
    }
   ],
   "source": [
    "[ps.stem(word) for sentence in documents[:2] for word in sentence.split(\" \")]  # this is different from above"
   ]
  },
  {
   "cell_type": "code",
   "execution_count": 43,
   "metadata": {},
   "outputs": [
    {
     "data": {
      "text/plain": [
       "['H u m a n   m a c h i n e   i n t e r f a c e   f o r   l a b   a b c   c o m p u t e r   a p p l i c a t i o n s',\n",
       " 'A   s u r v e y   o f   u s e r   o p i n i o n   o f   c o m p u t e r   s y s t e m   r e s p o n s e   t i m e',\n",
       " 'T h e   E P S   u s e r   i n t e r f a c e   m a n a g e m e n t   s y s t e m',\n",
       " 'S y s t e m   a n d   h u m a n   s y s t e m   e n g i n e e r i n g   t e s t i n g   o f   E P S',\n",
       " 'R e l a t i o n   o f   u s e r   p e r c e i v e d   r e s p o n s e   t i m e   t o   e r r o r   m e a s u r e m e n t',\n",
       " 'T h e   g e n e r a t i o n   o f   r a n d o m   b i n a r y   u n o r d e r e d   t r e e s',\n",
       " 'T h e   i n t e r s e c t i o n   g r a p h   o f   p a t h s   i n   t r e e s',\n",
       " 'G r a p h   m i n o r s   I V   W i d t h s   o f   t r e e s   a n d   w e l l   q u a s i   o r d e r i n g',\n",
       " 'G r a p h   m i n o r s   A   s u r v e y']"
      ]
     },
     "execution_count": 43,
     "metadata": {},
     "output_type": "execute_result"
    }
   ],
   "source": [
    "[\" \".join(sentence) for sentence in documents]"
   ]
  },
  {
   "cell_type": "code",
   "execution_count": 19,
   "metadata": {},
   "outputs": [
    {
     "data": {
      "text/plain": [
       "'H u m a n   m a c h i n e   i n t e r f a c e   f o r   l a b   a b c   c o m p u t e r   a p p l i c a t i o n s'"
      ]
     },
     "execution_count": 19,
     "metadata": {},
     "output_type": "execute_result"
    }
   ],
   "source": [
    "' '.join('Human machine interface for lab abc computer applications')"
   ]
  },
  {
   "cell_type": "code",
   "execution_count": 27,
   "metadata": {},
   "outputs": [
    {
     "data": {
      "text/plain": [
       "'Human machine interface for lab abc computer applications'"
      ]
     },
     "execution_count": 27,
     "metadata": {},
     "output_type": "execute_result"
    }
   ],
   "source": [
    "''.join('Human machine interface for lab abc computer applications')"
   ]
  },
  {
   "cell_type": "code",
   "execution_count": 21,
   "metadata": {},
   "outputs": [],
   "source": [
    "a = ['chew drop',\n",
    " 'chew fiber',\n",
    " 'chew ifw',\n",
    " 'chew fiber hr',\n",
    " 'bsw cut',\n",
    " 'claim submit',\n",
    " 'claim fil',\n",
    " 'broken ifw',\n",
    " 'fiber iw broken',\n",
    " 'swap fiber end',\n",
    " 'cx cancel servic']"
   ]
  },
  {
   "cell_type": "code",
   "execution_count": 25,
   "metadata": {},
   "outputs": [
    {
     "data": {
      "text/plain": [
       "\"['chew drop', 'chew fiber', 'chew ifw', 'chew fiber hr', 'bsw cut', 'claim submit', 'claim fil', 'broken ifw', 'fiber iw broken', 'swap fiber end', 'cx cancel servic']\""
      ]
     },
     "execution_count": 25,
     "metadata": {},
     "output_type": "execute_result"
    }
   ],
   "source": [
    "str(a) # a string, but not in the correct format"
   ]
  },
  {
   "cell_type": "code",
   "execution_count": 22,
   "metadata": {},
   "outputs": [
    {
     "data": {
      "text/plain": [
       "'chew drop,chew fiber,chew ifw,chew fiber hr,bsw cut,claim submit,claim fil,broken ifw,fiber iw broken,swap fiber end,cx cancel servic'"
      ]
     },
     "execution_count": 22,
     "metadata": {},
     "output_type": "execute_result"
    }
   ],
   "source": [
    "','.join(a)"
   ]
  },
  {
   "cell_type": "code",
   "execution_count": 23,
   "metadata": {},
   "outputs": [
    {
     "data": {
      "text/plain": [
       "'chew drop, chew fiber, chew ifw, chew fiber hr, bsw cut, claim submit, claim fil, broken ifw, fiber iw broken, swap fiber end, cx cancel servic'"
      ]
     },
     "execution_count": 23,
     "metadata": {},
     "output_type": "execute_result"
    }
   ],
   "source": [
    "','.join(a).replace(',',', ')"
   ]
  },
  {
   "cell_type": "code",
   "execution_count": 26,
   "metadata": {},
   "outputs": [
    {
     "data": {
      "text/plain": [
       "'chew drop, chew fiber, chew ifw, chew fiber hr, bsw cut, claim submit, claim fil, broken ifw, fiber iw broken, swap fiber end, cx cancel servic'"
      ]
     },
     "execution_count": 26,
     "metadata": {},
     "output_type": "execute_result"
    }
   ],
   "source": [
    "', '.join(a)"
   ]
  },
  {
   "cell_type": "code",
   "execution_count": 16,
   "metadata": {},
   "outputs": [
    {
     "name": "stdout",
     "output_type": "stream",
     "text": [
      "chew drop\n",
      "chew fiber\n",
      "chew ifw\n",
      "chew fiber hr\n",
      "bsw cut\n",
      "claim submit\n",
      "claim fil\n",
      "broken ifw\n",
      "fiber iw broken\n",
      "swap fiber end\n",
      "cx cancel servic\n"
     ]
    }
   ],
   "source": [
    "print(\"\\n\".join(a))"
   ]
  },
  {
   "cell_type": "code",
   "execution_count": 35,
   "metadata": {},
   "outputs": [
    {
     "data": {
      "text/plain": [
       "'chew drop\\nchew fiber\\nchew ifw\\nchew fiber hr\\nbsw cut\\nclaim submit\\nclaim fil\\nbroken ifw\\nfiber iw broken\\nswap fiber end\\ncx cancel servic'"
      ]
     },
     "execution_count": 35,
     "metadata": {},
     "output_type": "execute_result"
    }
   ],
   "source": [
    "\"\\n\".join(a)"
   ]
  },
  {
   "cell_type": "code",
   "execution_count": 34,
   "metadata": {},
   "outputs": [
    {
     "name": "stdout",
     "output_type": "stream",
     "text": [
      "two \n",
      "lines\n"
     ]
    }
   ],
   "source": [
    "print('two \\nlines')"
   ]
  },
  {
   "cell_type": "code",
   "execution_count": 33,
   "metadata": {},
   "outputs": [
    {
     "name": "stdout",
     "output_type": "stream",
     "text": [
      "one \\n line\n"
     ]
    }
   ],
   "source": [
    "print('one \\\\n line')"
   ]
  },
  {
   "cell_type": "code",
   "execution_count": null,
   "metadata": {},
   "outputs": [],
   "source": []
  },
  {
   "cell_type": "code",
   "execution_count": null,
   "metadata": {},
   "outputs": [],
   "source": []
  },
  {
   "cell_type": "markdown",
   "metadata": {},
   "source": [
    "# check progress of for loop"
   ]
  },
  {
   "cell_type": "markdown",
   "metadata": {},
   "source": [
    "use tqdm package"
   ]
  },
  {
   "cell_type": "code",
   "execution_count": 47,
   "metadata": {},
   "outputs": [],
   "source": [
    "from tqdm import tqdm  # trach for loop progress"
   ]
  },
  {
   "cell_type": "code",
   "execution_count": 48,
   "metadata": {},
   "outputs": [
    {
     "name": "stderr",
     "output_type": "stream",
     "text": [
      "100%|██████████| 100/100 [00:00<00:00, 208360.85it/s]"
     ]
    },
    {
     "name": "stdout",
     "output_type": "stream",
     "text": [
      "0\n",
      "20\n",
      "40\n",
      "60\n",
      "80\n"
     ]
    },
    {
     "name": "stderr",
     "output_type": "stream",
     "text": [
      "\n"
     ]
    }
   ],
   "source": [
    "for i in tqdm(range(100)):\n",
    "    if i%20 == 0: print(i)"
   ]
  },
  {
   "cell_type": "markdown",
   "metadata": {},
   "source": [
    "print iterations"
   ]
  },
  {
   "cell_type": "code",
   "execution_count": 1,
   "metadata": {},
   "outputs": [
    {
     "name": "stdout",
     "output_type": "stream",
     "text": [
      "0.0 %\n",
      "20.0 %\n",
      "40.0 %\n",
      "60.0 %\n",
      "80.0 %\n"
     ]
    }
   ],
   "source": [
    "n_cpt = 5   # number of checkpoints you want to check \n",
    "for i in range(100):\n",
    "    checkpoint = len(range(100))/n_cpt   \n",
    "    if i%checkpoint == 0: print(i/len(range(100))*100, '%')"
   ]
  },
  {
   "cell_type": "code",
   "execution_count": 58,
   "metadata": {},
   "outputs": [
    {
     "data": {
      "text/plain": [
       "True"
      ]
     },
     "execution_count": 58,
     "metadata": {},
     "output_type": "execute_result"
    }
   ],
   "source": [
    "all(np.array(range(1,10))>0)"
   ]
  }
 ],
 "metadata": {
  "kernelspec": {
   "display_name": "Python 3",
   "language": "python",
   "name": "python3"
  },
  "language_info": {
   "codemirror_mode": {
    "name": "ipython",
    "version": 3
   },
   "file_extension": ".py",
   "mimetype": "text/x-python",
   "name": "python",
   "nbconvert_exporter": "python",
   "pygments_lexer": "ipython3",
   "version": "3.7.3"
  }
 },
 "nbformat": 4,
 "nbformat_minor": 2
}
